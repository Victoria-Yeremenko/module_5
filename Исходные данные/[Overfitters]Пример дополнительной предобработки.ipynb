{
 "cells": [
  {
   "cell_type": "markdown",
   "metadata": {},
   "source": [
    "Соединяем датасет от 24.02.21 и датасет от 05.03.2021"
   ]
  },
  {
   "cell_type": "code",
   "execution_count": 1,
   "metadata": {},
   "outputs": [],
   "source": [
    "import pandas as pd\n",
    "train = pd.read_csv('train_05_03_2021.csv')\n",
    "# Тестовый датасет\n",
    "test = pd.read_csv('test.csv')\n",
    "moscow_24_02 = pd.read_csv('moscow_24_02_2021.csv')"
   ]
  },
  {
   "cell_type": "code",
   "execution_count": 60,
   "metadata": {},
   "outputs": [],
   "source": [
    "def find_data_type_discrepancy(train, test):\n",
    "    \"\"\"\n",
    "    Функция ищет различия в типах данных \n",
    "    между датасетами и выводит информацию на экран.\n",
    "    Ничего не возвращает\n",
    "    :param train: DataFrame object with training data\n",
    "    :param test: DataFrame object with testing data\n",
    "    \"\"\"\n",
    "    \n",
    "    train_dtypes_df = train.dtypes.reset_index()\n",
    "    train_dtypes_df.columns = 'col_name type_train'.split(' ')\n",
    "\n",
    "\n",
    "    test_dtypes_df = test.dtypes.reset_index()\n",
    "    test_dtypes_df.columns = 'col_name type_test'.split(' ')\n",
    "\n",
    "\n",
    "    merged_df = train_dtypes_df.merge(test_dtypes_df, how='outer', left_on='col_name', right_on='col_name')\n",
    "    merged_df\n",
    "\n",
    "    print(f\"{'Расхождение типов данных:'}\")\n",
    "    print(f\"{'Признак'.ljust(21)} | {'train'.ljust(15)} | {'test'.ljust(15)}\")\n",
    "    print('-'*48)\n",
    "\n",
    "    for index, row in merged_df.iterrows():\n",
    "        if str(row['type_train']) == 'nan' or str(row['type_test']) == 'nan':\n",
    "            print(f\"{str(row['col_name']).ljust(21)} | {str(row['type_train']).ljust(15)} | {str(row['type_test']).ljust(15)}\")\n",
    "\n",
    "        elif row['type_train'] != row['type_test']:\n",
    "            print(f\"{str(row['col_name']).ljust(21)} | {str(row['type_train']).ljust(15)} | {str(row['type_test']).ljust(15)}\")\n",
    "    \n",
    "    "
   ]
  },
  {
   "cell_type": "code",
   "execution_count": 61,
   "metadata": {},
   "outputs": [
    {
     "data": {
      "text/plain": [
       "0"
      ]
     },
     "execution_count": 61,
     "metadata": {},
     "output_type": "execute_result"
    }
   ],
   "source": [
    "train['sell_id'].duplicated(keep='first').sum()"
   ]
  },
  {
   "cell_type": "code",
   "execution_count": 62,
   "metadata": {},
   "outputs": [
    {
     "name": "stdout",
     "output_type": "stream",
     "text": [
      "Расхождение типов данных:\n",
      "Признак               | train           | test           \n",
      "------------------------------------------------\n",
      "price                 | int64           | float64        \n"
     ]
    }
   ],
   "source": [
    "# Посмотрим на различия в типах данных между трейном и тестом\n",
    "find_data_type_discrepancy(train,moscow_24_02)"
   ]
  },
  {
   "cell_type": "code",
   "execution_count": 63,
   "metadata": {},
   "outputs": [],
   "source": [
    "moscow_24_02['price'] = moscow_24_02['price'].astype('int64')"
   ]
  },
  {
   "cell_type": "code",
   "execution_count": 64,
   "metadata": {},
   "outputs": [],
   "source": [
    "train = pd.concat([train,moscow_24_02], ignore_index=True)"
   ]
  },
  {
   "cell_type": "code",
   "execution_count": 65,
   "metadata": {},
   "outputs": [
    {
     "data": {
      "text/plain": [
       "22360"
      ]
     },
     "execution_count": 65,
     "metadata": {},
     "output_type": "execute_result"
    }
   ],
   "source": [
    "train['sell_id'].duplicated(keep='first').sum()"
   ]
  },
  {
   "cell_type": "code",
   "execution_count": 66,
   "metadata": {},
   "outputs": [],
   "source": [
    "train.drop_duplicates(subset=['sell_id'], keep='last', inplace=True)"
   ]
  },
  {
   "cell_type": "code",
   "execution_count": 67,
   "metadata": {},
   "outputs": [
    {
     "data": {
      "text/plain": [
       "(75028, 35)"
      ]
     },
     "execution_count": 67,
     "metadata": {},
     "output_type": "execute_result"
    }
   ],
   "source": [
    "train.shape"
   ]
  },
  {
   "cell_type": "code",
   "execution_count": 68,
   "metadata": {},
   "outputs": [
    {
     "name": "stdout",
     "output_type": "stream",
     "text": [
      "Расхождение типов данных:\n",
      "Признак               | train           | test           \n",
      "------------------------------------------------\n",
      "engineDisplacement    | int64           | object         \n",
      "enginePower           | int64           | object         \n",
      "parsing_unixtime      | float64         | int64          \n",
      "section               | object          | nan            \n",
      "url_saleid            | object          | nan            \n",
      "Владельцы             | float64         | object         \n",
      "price                 | int64           | nan            \n",
      "auto_class            | object          | nan            \n",
      "price_segment         | object          | nan            \n",
      "seller_type           | object          | nan            \n",
      "car_url               | nan             | object         \n",
      "complectation_dict    | nan             | object         \n",
      "Владение              | nan             | object         \n"
     ]
    }
   ],
   "source": [
    "# Посмотрим на различия в типах данных между трейном и тестом\n",
    "find_data_type_discrepancy(train,test)"
   ]
  },
  {
   "cell_type": "code",
   "execution_count": 69,
   "metadata": {},
   "outputs": [],
   "source": [
    "# Функции для приведения датасетов к единому формату\n",
    "\n",
    "# тест -  удалим LTR и так же приведем в 1600, 1800, etc.\n",
    "def get_correct_engineDisplacement_test(x):\n",
    "    if x == ' LTR':  # у электроавто объем равен 0 \n",
    "        return 0\n",
    "    \n",
    "    x = float(x.split(' LTR')[0])\n",
    "    \n",
    "    return int(x * 1000)"
   ]
  },
  {
   "cell_type": "code",
   "execution_count": 70,
   "metadata": {},
   "outputs": [],
   "source": [
    "# engineDisplacement\n",
    "# трейн - переводим к формату 1600 и тд\n",
    "\n",
    "train.engineDisplacement = train.engineDisplacement.apply(lambda x: (x // 100) * 100)\n",
    "\n",
    "# тест -  удалим LTR и так же приведем в 1600 и тд\n",
    "test.engineDisplacement = test.engineDisplacement.apply(get_correct_engineDisplacement_test)\n",
    "\n",
    "# enginePower\n",
    "# приведем признак в тесте в типу данных int64 и уберем ' N12'\n",
    "test.enginePower = test.enginePower.apply(lambda x: int(x.split(' N12')[0]))\n",
    "\n",
    "# Владельцы\n",
    "# приведем к типу float64 для совместимости с трейном\n",
    "test.Владельцы = test.Владельцы.apply(lambda x: x[0]).astype('float64')\n",
    "\n",
    "# Дата получения данных. \n",
    "# приведем к тому же формату, что и в тесте\n",
    "train.parsing_unixtime = train.parsing_unixtime.astype('int64')"
   ]
  },
  {
   "cell_type": "code",
   "execution_count": 71,
   "metadata": {},
   "outputs": [],
   "source": [
    "# Ограничим трейн только теми моделями и регионом, которые в тесте\n",
    "test_brands = test.brand.value_counts().index.to_list()"
   ]
  },
  {
   "cell_type": "code",
   "execution_count": 72,
   "metadata": {},
   "outputs": [],
   "source": [
    "#Оставим только те модели, которые есть в тесте\n",
    "train = train[train.brand.isin(test_brands)]"
   ]
  },
  {
   "cell_type": "code",
   "execution_count": 73,
   "metadata": {},
   "outputs": [
    {
     "data": {
      "text/plain": [
       "(64331, 35)"
      ]
     },
     "execution_count": 73,
     "metadata": {},
     "output_type": "execute_result"
    }
   ],
   "source": [
    "train.shape"
   ]
  },
  {
   "cell_type": "code",
   "execution_count": 74,
   "metadata": {},
   "outputs": [
    {
     "data": {
      "text/plain": [
       "(34686, 32)"
      ]
     },
     "execution_count": 74,
     "metadata": {},
     "output_type": "execute_result"
    }
   ],
   "source": [
    "test.shape"
   ]
  },
  {
   "cell_type": "code",
   "execution_count": 75,
   "metadata": {},
   "outputs": [
    {
     "name": "stdout",
     "output_type": "stream",
     "text": [
      "Расхождение типов данных:\n",
      "Признак               | train           | test           \n",
      "------------------------------------------------\n",
      "section               | object          | nan            \n",
      "url_saleid            | object          | nan            \n",
      "price                 | int64           | nan            \n",
      "auto_class            | object          | nan            \n",
      "price_segment         | object          | nan            \n",
      "seller_type           | object          | nan            \n",
      "car_url               | nan             | object         \n",
      "complectation_dict    | nan             | object         \n",
      "Владение              | nan             | object         \n"
     ]
    }
   ],
   "source": [
    "# Посмотрим на различия в типах данных между трейном и тестом\n",
    "find_data_type_discrepancy(train,test)"
   ]
  },
  {
   "cell_type": "code",
   "execution_count": 76,
   "metadata": {},
   "outputs": [
    {
     "data": {
      "text/plain": [
       "3608"
      ]
     },
     "execution_count": 76,
     "metadata": {},
     "output_type": "execute_result"
    }
   ],
   "source": [
    "# формируем общий датасет, размечаем тест и трейн\n",
    "\n",
    "train['train'] = 1\n",
    "test['train'] = 0\n",
    "\n",
    "df = pd.concat([train, test], ignore_index=True)\n",
    "df['sell_id'].duplicated(keep='last').sum()"
   ]
  },
  {
   "cell_type": "code",
   "execution_count": 77,
   "metadata": {},
   "outputs": [],
   "source": [
    "df.drop_duplicates(subset=['sell_id'], keep='last', inplace=True)"
   ]
  },
  {
   "cell_type": "code",
   "execution_count": 78,
   "metadata": {},
   "outputs": [
    {
     "data": {
      "text/plain": [
       "(34686, 39)"
      ]
     },
     "execution_count": 78,
     "metadata": {},
     "output_type": "execute_result"
    }
   ],
   "source": [
    "df[df.train==0].shape"
   ]
  },
  {
   "cell_type": "code",
   "execution_count": 79,
   "metadata": {},
   "outputs": [
    {
     "data": {
      "text/plain": [
       "34686"
      ]
     },
     "execution_count": 79,
     "metadata": {},
     "output_type": "execute_result"
    }
   ],
   "source": [
    "df[df.train==0].price.isna().sum()"
   ]
  },
  {
   "cell_type": "code",
   "execution_count": 80,
   "metadata": {},
   "outputs": [],
   "source": [
    "df.to_csv(\"train_test_final.csv\", index=False, encoding='utf-8')"
   ]
  },
  {
   "cell_type": "code",
   "execution_count": null,
   "metadata": {},
   "outputs": [],
   "source": []
  }
 ],
 "metadata": {
  "kernelspec": {
   "display_name": "Python 3",
   "language": "python",
   "name": "python3"
  },
  "language_info": {
   "codemirror_mode": {
    "name": "ipython",
    "version": 3
   },
   "file_extension": ".py",
   "mimetype": "text/x-python",
   "name": "python",
   "nbconvert_exporter": "python",
   "pygments_lexer": "ipython3",
   "version": "3.8.5"
  }
 },
 "nbformat": 4,
 "nbformat_minor": 4
}
